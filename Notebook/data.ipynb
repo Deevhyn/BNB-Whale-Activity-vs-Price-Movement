{
 "cells": [
  {
   "cell_type": "markdown",
   "id": "86be6e73",
   "metadata": {},
   "source": [
    "## Mini-Capstone Project: Whale Activity vs. Price Movement, combining Coingecko and Dune Sim API data:\n",
    "\n",
    "### Project Title: “Do Whales Move the Market?” — Analyzing Large Transfers vs Price Movements\n",
    "\n",
    "### Project Goal: \n",
    "Analyze whether spikes in whale activity (large transfers) precede or correlate with significant price movements of a selected token.\n",
    "\n",
    "### Core Components:\n",
    "- Data Source\n",
    "- Purpose\n",
    "- Coingecko API\n",
    "- Daily/hourly price data\n",
    "- Dune Sim API\n",
    "- Whale transactions (>$100K)\n",
    "- Pandas, Matplotlib\n",
    "- Data wrangling and visualization\n",
    "\n",
    "### Skills Covered\n",
    "- REST API requests (requests)\n",
    "\n",
    "- JSON parsing\n",
    "\n",
    "- Pandas DataFrame operations (merge, groupby, fillna)\n",
    "\n",
    "- Time-series analysis\n",
    "\n",
    "- Dual-axis plotting in Matplotlib and Seaborn\n",
    "\n",
    "- Logic building and insight generation"
   ]
  },
  {
   "cell_type": "markdown",
   "id": "e5a37333",
   "metadata": {},
   "source": [
    "## Import Modules "
   ]
  },
  {
   "cell_type": "code",
   "execution_count": 3,
   "id": "8954366e",
   "metadata": {},
   "outputs": [],
   "source": [
    "import os \n",
    "import requests\n",
    "import pandas as pd\n",
    "import numpy as np\n",
    "import matplotlib.pyplot as plt\n",
    "from datetime import datetime\n",
    "from dotenv import load_dotenv\n",
    "from dune_client.types import QueryParameter\n",
    "from dune_client.client import DuneClient\n",
    "from dune_client.query import QueryBase\n"
   ]
  }
 ],
 "metadata": {
  "kernelspec": {
   "display_name": "mini-project",
   "language": "python",
   "name": "python3"
  },
  "language_info": {
   "codemirror_mode": {
    "name": "ipython",
    "version": 3
   },
   "file_extension": ".py",
   "mimetype": "text/x-python",
   "name": "python",
   "nbconvert_exporter": "python",
   "pygments_lexer": "ipython3",
   "version": "3.12.3"
  }
 },
 "nbformat": 4,
 "nbformat_minor": 5
}
