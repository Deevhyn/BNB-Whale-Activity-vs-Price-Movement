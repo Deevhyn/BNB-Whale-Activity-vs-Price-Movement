{
 "cells": [
  {
   "cell_type": "markdown",
   "id": "86be6e73",
   "metadata": {},
   "source": [
    "## Mini-Capstone Project: Whale Activity vs. Price Movement, combining Coingecko and Dune Sim API data:\n",
    "\n",
    "### Project Title: “Do Whales Move the Market?” — Analyzing Large Transfers vs Price Movements\n",
    "\n",
    "### Project Goal: \n",
    "Analyze whether spikes in whale activity (large transfers) precede or correlate with significant price movements of a selected token.\n",
    "\n",
    "### Core Components:\n",
    "- Data Source\n",
    "- Purpose\n",
    "- Coingecko API\n",
    "- Daily/hourly price data\n",
    "- Dune Sim API\n",
    "- Whale transactions (>$100K)\n",
    "- Pandas, Matplotlib\n",
    "- Data wrangling and visualization\n",
    "\n",
    "### Skills Covered\n",
    "- REST API requests (requests)\n",
    "\n",
    "- JSON parsing\n",
    "\n",
    "- Pandas DataFrame operations (merge, groupby, fillna)\n",
    "\n",
    "- Time-series analysis\n",
    "\n",
    "- Dual-axis plotting in Matplotlib and Seaborn\n",
    "\n",
    "- Logic building and insight generation"
   ]
  },
  {
   "cell_type": "markdown",
   "id": "e5a37333",
   "metadata": {},
   "source": [
    "## 1. Import Modules "
   ]
  },
  {
   "cell_type": "code",
   "execution_count": 1,
   "id": "8954366e",
   "metadata": {},
   "outputs": [],
   "source": [
    "import os \n",
    "import requests\n",
    "import pandas as pd\n",
    "import numpy as np\n",
    "import matplotlib.pyplot as plt\n",
    "from datetime import datetime\n",
    "from dotenv import load_dotenv\n",
    "from dune_client.types import QueryParameter\n",
    "from dune_client.client import DuneClient\n",
    "from dune_client.query import QueryBase\n"
   ]
  },
  {
   "cell_type": "markdown",
   "id": "5420cd0b",
   "metadata": {},
   "source": [
    "## 2. API Setup "
   ]
  },
  {
   "cell_type": "code",
   "execution_count": 3,
   "id": "19b1dc58",
   "metadata": {},
   "outputs": [],
   "source": [
    "# Load environment variables\n",
    "load_dotenv()\n",
    "\n",
    "# Get Dune and CoinGecko API keys from environment variables\n",
    "DUNE_API_KEY = os.getenv(\"DUNE_API_KEY\")\n",
    "COINGECKO_API_KEY = os.getenv(\"COINGECKO_API_KEY\")\n",
    "\n",
    "# Get the Dune API client\n",
    "dune_client = DuneClient(api_key=DUNE_API_KEY)\n",
    "\n",
    "# Declare project parameters \n",
    "TOKEN_ID = \"arbitrum\"\n",
    "VS_CURRENCY = \"usd\"\n",
    "DAYS = 30\n",
    "DUNE_QUERY_ID = 5614775 \n",
    "WHALE_THRESHOLD_USD = 100000\n",
    "\n",
    "if not os.path.exists(\"data\"):\n",
    "    os.makedirs(\"data\")\n",
    "\n"
   ]
  },
  {
   "cell_type": "markdown",
   "id": "236a7695",
   "metadata": {},
   "source": [
    "## 3. Get CoinGecko Data (Arbitrum's Daily price Data for 30 days)"
   ]
  },
  {
   "cell_type": "code",
   "execution_count": null,
   "id": "744bbef1",
   "metadata": {},
   "outputs": [
    {
     "name": "stdout",
     "output_type": "stream",
     "text": [
      "Fetching data from CoinGecko for arbitrum...\n",
      "Saved to data/arbitrum_historical_data.csv\n"
     ]
    }
   ],
   "source": [
    "def fetch_coingecko_data(token_id, vs_currency, days):\n",
    "    file_path = f\"data/arbitrum_historical_data.csv\"\n",
    "\n",
    "    # Check if cached\n",
    "    if os.path.exists(file_path):\n",
    "        price_df = pd.read_csv(file_path, parse_dates=[\"date\"])\n",
    "        if not price_df.empty and price_df[\"date\"].max() >= (datetime.now() - pd.Timedelta(days=days)):\n",
    "            print(f\"Using cached data from {file_path}!!!\")\n",
    "            return price_df\n",
    "\n",
    "    print(f\"Fetching data from CoinGecko for arbitrum...\")\n",
    "    url = f\"https://api.coingecko.com/api/v3/coins/arbitrum/market_chart\"\n",
    "    params = {\n",
    "        \"vs_currency\": vs_currency,\n",
    "        \"days\": days,\n",
    "        \"interval\": \"daily\"\n",
    "    }\n",
    "    headers = {\n",
    "        \"Accept\": \"application/json\",\n",
    "        \"X-CoinGecko-Api-Key\": COINGECKO_API_KEY\n",
    "    }\n",
    "\n",
    "    response = requests.get(url, headers=headers, params=params)\n",
    "    response.raise_for_status()\n",
    "    data = response.json()\n",
    "\n",
    "    price_df = pd.DataFrame(data[\"prices\"], columns=[\"timestamp\", \"price\"])\n",
    "    price_df[\"date\"] = pd.to_datetime(price_df[\"timestamp\"], unit=\"ms\")\n",
    "    price_df = price_df[[\"date\", \"price\"]]\n",
    "\n",
    "    os.makedirs(\"data\", exist_ok=True)\n",
    "    price_df.to_csv(file_path, index=False)\n",
    "    print(f\"Saved to {file_path}\")\n",
    "\n",
    "    return price_df\n",
    "\n",
    "if __name__ == \"__main__\":\n",
    "    fetch_coingecko_data(TOKEN_ID, VS_CURRENCY, DAYS) \n"
   ]
  },
  {
   "cell_type": "markdown",
   "id": "1e159bc6",
   "metadata": {},
   "source": [
    "## 4. Get Arbitrum Whale Transfers for 30 days "
   ]
  },
  {
   "cell_type": "code",
   "execution_count": 6,
   "id": "4c23489f",
   "metadata": {},
   "outputs": [
    {
     "name": "stdout",
     "output_type": "stream",
     "text": [
      "Checking latest execution for query 5614775...\n"
     ]
    },
    {
     "ename": "AttributeError",
     "evalue": "'DuneClient' object has no attribute 'list_executions'",
     "output_type": "error",
     "traceback": [
      "\u001b[31m---------------------------------------------------------------------------\u001b[39m",
      "\u001b[31mAttributeError\u001b[39m                            Traceback (most recent call last)",
      "\u001b[36mCell\u001b[39m\u001b[36m \u001b[39m\u001b[32mIn[6]\u001b[39m\u001b[32m, line 39\u001b[39m\n\u001b[32m     36\u001b[39m     \u001b[38;5;28;01mreturn\u001b[39;00m dune_df\n\u001b[32m     38\u001b[39m \u001b[38;5;28;01mif\u001b[39;00m \u001b[34m__name__\u001b[39m == \u001b[33m\"\u001b[39m\u001b[33m__main__\u001b[39m\u001b[33m\"\u001b[39m:\n\u001b[32m---> \u001b[39m\u001b[32m39\u001b[39m     \u001b[43mfetch_whale_transfers\u001b[49m\u001b[43m(\u001b[49m\u001b[43mDUNE_QUERY_ID\u001b[49m\u001b[43m,\u001b[49m\u001b[43m \u001b[49m\u001b[43mTOKEN_ID\u001b[49m\u001b[43m,\u001b[49m\u001b[43m \u001b[49m\u001b[43mfreshness_days\u001b[49m\u001b[43m=\u001b[49m\u001b[32;43m1\u001b[39;49m\u001b[43m)\u001b[49m\n",
      "\u001b[36mCell\u001b[39m\u001b[36m \u001b[39m\u001b[32mIn[6]\u001b[39m\u001b[32m, line 12\u001b[39m, in \u001b[36mfetch_whale_transfers\u001b[39m\u001b[34m(query_id, token_id, freshness_days)\u001b[39m\n\u001b[32m      9\u001b[39m         \u001b[38;5;28;01mreturn\u001b[39;00m dune_df\n\u001b[32m     11\u001b[39m \u001b[38;5;28mprint\u001b[39m(\u001b[33mf\u001b[39m\u001b[33m\"\u001b[39m\u001b[33mChecking latest execution for query 5614775...\u001b[39m\u001b[33m\"\u001b[39m)\n\u001b[32m---> \u001b[39m\u001b[32m12\u001b[39m latest_execs = \u001b[43mdune_client\u001b[49m\u001b[43m.\u001b[49m\u001b[43mlist_executions\u001b[49m(query_id)\n\u001b[32m     13\u001b[39m \u001b[38;5;28;01mif\u001b[39;00m latest_execs \u001b[38;5;129;01mand\u001b[39;00m latest_execs[\u001b[32m0\u001b[39m].state == \u001b[33m\"\u001b[39m\u001b[33mQUERY_STATE_COMPLETED\u001b[39m\u001b[33m\"\u001b[39m:\n\u001b[32m     14\u001b[39m     exec_id = latest_execs[\u001b[32m0\u001b[39m].execution_id\n",
      "\u001b[31mAttributeError\u001b[39m: 'DuneClient' object has no attribute 'list_executions'"
     ]
    }
   ],
   "source": [
    "\n",
    "def fetch_whale_transfers(query_id, token_id, freshness_days=1):\n",
    "    file_path = f\"data/arbitrum_whale_transfers.csv\"\n",
    "\n",
    "    # Try cache first\n",
    "    if os.path.exists(file_path):\n",
    "        dune_df = pd.read_csv(file_path, parse_dates=[\"date\"])\n",
    "        if not dune_df.empty and dune_df[\"date\"].max() >= (datetime.now() - pd.Timedelta(days=freshness_days)):\n",
    "            print(f\"Using cached data from {file_path}!!!\")\n",
    "            return dune_df\n",
    "\n",
    "    print(f\"Checking latest execution for query 5614775...\")\n",
    "    latest_execs = dune_client.list_executions(query_id)\n",
    "    if latest_execs and latest_execs[0].state == \"QUERY_STATE_COMPLETED\":\n",
    "        exec_id = latest_execs[0].execution_id\n",
    "        exec_time = latest_execs[0].execution_ended_at\n",
    "\n",
    "        if exec_time and exec_time >= datetime.utcnow() - timedelta(days=freshness_days):\n",
    "            print(f\"Using existing execution {exec_id} from {exec_time}...\")\n",
    "            result = dune_client.get_execution(exec_id)\n",
    "            dune_df = pd.DataFrame(result.data)\n",
    "            dune_df[\"date\"] = pd.to_datetime(dune_df[\"time\"], unit=\"s\", errors=\"coerce\")\n",
    "            dune_df.drop(columns=[\"time\"], inplace=True, errors=\"ignore\")\n",
    "            os.makedirs(\"data\", exist_ok=True)\n",
    "            dune_df.to_csv(file_path, index=False)\n",
    "            return dune_df\n",
    "\n",
    "    # Run query if no recent execution\n",
    "    print(f\"No fresh execution found. Running query 5614775...\")\n",
    "    query = QueryBase(query_id=query_id)\n",
    "    result = dune_client.run_query(query)\n",
    "    dune_df = pd.DataFrame(result.data)\n",
    "    dune_df[\"date\"] = pd.to_datetime(dune_df[\"time\"], unit=\"s\", errors=\"coerce\")\n",
    "    dune_df.drop(columns=[\"time\"], inplace=True, errors=\"ignore\")\n",
    "    os.makedirs(\"data\", exist_ok=True)\n",
    "    dune_df.to_csv(file_path, index=False)\n",
    "    return dune_df\n",
    "\n",
    "if __name__ == \"__main__\":\n",
    "    fetch_whale_transfers(DUNE_QUERY_ID, TOKEN_ID, freshness_days=1)\n"
   ]
  }
 ],
 "metadata": {
  "kernelspec": {
   "display_name": "mini-project",
   "language": "python",
   "name": "python3"
  },
  "language_info": {
   "codemirror_mode": {
    "name": "ipython",
    "version": 3
   },
   "file_extension": ".py",
   "mimetype": "text/x-python",
   "name": "python",
   "nbconvert_exporter": "python",
   "pygments_lexer": "ipython3",
   "version": "3.12.3"
  }
 },
 "nbformat": 4,
 "nbformat_minor": 5
}
